{
 "cells": [
  {
   "cell_type": "code",
   "execution_count": null,
   "metadata": {},
   "outputs": [],
   "source": [
    "#tutorial here: https://machinelearningmastery.com/how-to-develop-a-convolutional-neural-network-from-scratch-for-mnist-handwritten-digit-classification/"
   ]
  },
  {
   "cell_type": "code",
   "execution_count": 1,
   "metadata": {
    "scrolled": true
   },
   "outputs": [
    {
     "name": "stderr",
     "output_type": "stream",
     "text": [
      "Using TensorFlow backend.\n"
     ]
    }
   ],
   "source": [
    "from keras.datasets import mnist\n",
    "from numpy import mean\n",
    "from numpy import std\n",
    "from matplotlib import pyplot\n",
    "from sklearn.model_selection import KFold\n",
    "from sklearn.model_selection import train_test_split\n",
    "from keras.datasets import mnist\n",
    "from keras.utils import to_categorical\n",
    "from keras.models import load_model\n",
    "from keras.models import Sequential\n",
    "from keras.layers import Conv2D\n",
    "from keras.layers import MaxPooling2D\n",
    "from keras.layers import Dense\n",
    "from keras.layers import Flatten\n",
    "from keras.optimizers import SGD\n",
    "from keras.layers import BatchNormalization\n",
    "from keras.preprocessing.image import load_img\n",
    "from keras.preprocessing.image import img_to_array\n",
    "from keras.models import load_model\n",
    "from IPython.display import display\n",
    "from PIL import Image"
   ]
  },
  {
   "cell_type": "code",
   "execution_count": 6,
   "metadata": {},
   "outputs": [
    {
     "name": "stdout",
     "output_type": "stream",
     "text": [
      "Train: X=(60000, 28, 28)s, y=(60000,)s\n",
      "Test: X=(10000, 28, 28)s, y=(10000,)s\n"
     ]
    },
    {
     "data": {
      "image/png": "[encoded data removed]",
      "text/plain": [
       "<Figure size 432x288 with 9 Axes>"
      ]
     },
     "metadata": {
      "needs_background": "light"
     },
     "output_type": "display_data"
    }
   ],
   "source": [
    "#loading the mnist dataset\n",
    "(trainX, trainy), (testX, testy)=mnist.load_data()\n",
    "#summarize mnist dataset i just loaded\n",
    "print(\"Train: X={}s, y={}s\".format(trainX.shape, trainy.shape))\n",
    "print(\"Test: X={}s, y={}s\".format(testX.shape, testy.shape))\n",
    "\n",
    "#plot first few images\n",
    "for i in range(9):\n",
    "    #define subplot\n",
    "    pyplot.subplot(330+1+i)\n",
    "    #plot raw pixel data\n",
    "    pyplot.imshow(trainX[i], cmap=pyplot.get_cmap('gray'))\n",
    "#show the plot\n",
    "pyplot.show()"
   ]
  },
  {
   "cell_type": "markdown",
   "metadata": {},
   "source": [
    "### developing test harness with 5 key elements (1) loading dataset (2) prepping dataset (3) definiting model (4) evaluating model (5) presenting results"
   ]
  },
  {
   "cell_type": "code",
   "execution_count": 7,
   "metadata": {},
   "outputs": [],
   "source": [
    "#load dataset\n",
    "(trainX, trainY), (testX, testY)=mnist.load_data()\n",
    "\n",
    "#reshape dataset to have a single colo channel\n",
    "trainX=trainX.reshape((trainX.shape[0],28,28,1))\n",
    "testX=testX.reshape((testX.shape[0],28,28,1))"
   ]
  },
  {
   "cell_type": "code",
   "execution_count": 8,
   "metadata": {},
   "outputs": [],
   "source": [
    "#one hot encode target values\n",
    "trainY=to_categorical(trainY)\n",
    "testY=to_categorical(testY)"
   ]
  },
  {
   "cell_type": "code",
   "execution_count": 4,
   "metadata": {},
   "outputs": [],
   "source": [
    "#function to load and one hot encode train and test dataset\n",
    "def load_dataset():\n",
    "    #load daaset\n",
    "    (trainX, trainY), (testX,testY)=mnist.load_data()\n",
    "    #reshape dataset to have single channel\n",
    "    trainX=trainX.reshape((trainX.shape[0],28,28,1))\n",
    "    testX=testX.reshape((testX.shape[0],28,28,1))\n",
    "    #one hot encode target values\n",
    "    trainY=to_categorical(trainY)\n",
    "    testY=to_categorical(testY)\n",
    "    return trainX, trainY, testX, testY"
   ]
  },
  {
   "cell_type": "code",
   "execution_count": 5,
   "metadata": {},
   "outputs": [],
   "source": [
    "#preparing pixel data\n",
    "\n",
    "#function to scale pixels: (1) convert from int to fload, (2) normalize pixel values to range 0-1\n",
    "#need to call this fxn to prepare pixel values prior to modeling\n",
    "def prep_pixels(train, test):\n",
    "    #convert from int to floats\n",
    "    train_norm = train.astype('float32')\n",
    "    test_norm = test.astype('float32')\n",
    "    #normalize to range 0-1\n",
    "    train_norm=train_norm/255.0\n",
    "    test_norm=test_norm/255.0\n",
    "    #return nromalized images\n",
    "    return train_norm, test_norm"
   ]
  },
  {
   "cell_type": "code",
   "execution_count": 11,
   "metadata": {},
   "outputs": [],
   "source": [
    "#defining model\n",
    "\n",
    "#function to define and return the model\n",
    "def define_model():\n",
    "    model=Sequential()\n",
    "    #add a single convolutional layer with a small filer size (3,3) and modest number of filters (32)\n",
    "    #NB: all layers will use ReLU activation function and He weight initialization scheme (best practices)\n",
    "    model.add(Conv2D(32, (3,3), activation='relu',kernel_initializer='he_uniform',input_shape=(28,28,1)))\n",
    "    #add a max pooling layer\n",
    "    model.add(MaxPooling2D((2,2)))\n",
    "    #Feature extractor: flatten filter maps to provide features to classifier\n",
    "    model.add(Flatten())\n",
    "    #dense layer to interpret features (will use 100 nodes here)\n",
    "    model.add(Dense(100, activation='relu',kernel_initializer='he_uniform'))\n",
    "    #output layer: task will be to classify each of the 10 digits, so output layer will need 10 nodes to predict prob distribution of the 10 classes\n",
    "    model.add(Dense(10, activation='softmax'))\n",
    "    #stochastic gradient descent optimizer: here, learning rate=0.01, and momentum=0.9\n",
    "    opt=SGD(lr=0.01, momentum=0.9)\n",
    "    #compile model: categorical x-entropy loss function will be optimized and will monitor classification accuracy metric\n",
    "    model.compile(optimizer=opt, loss='categorical_crossentropy', metrics=['accuracy'])\n",
    "    return model"
   ]
  },
  {
   "cell_type": "code",
   "execution_count": 12,
   "metadata": {},
   "outputs": [],
   "source": [
    "#evaluating the model\n",
    "\n",
    "#function to evaluate a model using k-fold cross-validation\n",
    "#default to 5-fold x-validation\n",
    "def evaluate_model(model, dataX, dataY, n_folds=5):\n",
    "    scores, histories = list(), list()\n",
    "    #prepare cross validation\n",
    "    kfold=KFold(n_folds, shuffle=True, random_state=1)\n",
    "    #enumerate splits\n",
    "    for train_ix, test_ix in kfold.split(dataX):\n",
    "        #select rows for train and test\n",
    "        trainX, trainY, testX, testY=dataX[train_ix], dataY[train_ix], dataX[test_ix], dataY[test_ix]\n",
    "        #fit model\n",
    "        #will train using 10 trainig epochs and default batch size of 32\n",
    "        history=model.fit(trainX, trainY, epochs=10, batch_size=32, validation_data=(testX, testY), verbose=0)\n",
    "        #evaluate model\n",
    "        _, acc=model.evaluate(testX, testY, verbose=0)\n",
    "        print('>%.3f' % (acc*100.0))\n",
    "        #scores stores classification accuracy of each fold at the end of each run so we can estimate model performance\n",
    "        scores.append(acc)\n",
    "        #histories stores  training loss values and metrics values at successive epochs, as well as validation loss values and validation metrics values (if applicable) so that we can plot the learning rate over each epoch\n",
    "        histories.append(history)\n",
    "    return scores, histories"
   ]
  },
  {
   "cell_type": "code",
   "execution_count": 13,
   "metadata": {},
   "outputs": [],
   "source": [
    "#present results\n",
    "\n",
    "#fxn to plot diagnostic learning curves: line plot showing model performance on train and test set during each k-fold validation to get a sense for over vs underfitting\n",
    "def summarize_diagnostics(histories):\n",
    "    for i in range(len(histories)):\n",
    "        #plot loss\n",
    "        pyplot.subplot(211)\n",
    "        pyplot.title('Cross Entropy Loss')\n",
    "        pyplot.plot(histories[i].history['loss'], color='blue', label='train')\n",
    "        pyplot.plot(histories[i].history['val_loss'], color='orange', label='test')\n",
    "        #plot accuracy\n",
    "        pyplot.subplot(212)\n",
    "        pyplot.title('Classification Accuracy')\n",
    "        pyplot.plot(histories[i].history['accuracy'], color='blue', label='train')\n",
    "        pyplot.plot(histories[i].history['val_accuracy'], color='orange', label='test')\n",
    "    pyplot.show()\n",
    "    "
   ]
  },
  {
   "cell_type": "code",
   "execution_count": 14,
   "metadata": {},
   "outputs": [],
   "source": [
    "#function to summarize the classification accuracy scores collected during each fold\n",
    "def summarize_performance(scores):\n",
    "    #print summary\n",
    "    print('AccuracY: mean=%.3f std=%.3f, n=%d' % (mean(scores)*100, std(scores)*100, len(scores)))\n",
    "    #box and whisker plots of results\n",
    "    pyplot.boxplot(scores)\n",
    "    pyplot.show()\n",
    "    "
   ]
  },
  {
   "cell_type": "code",
   "execution_count": 18,
   "metadata": {},
   "outputs": [],
   "source": [
    "#functon that will run the test harness for evaluating a model\n",
    "#remember we are leacing a hold-out test set that is not being included performance measures here!\n",
    "def run_test_harness():\n",
    "    #load and one hot encode dataset\n",
    "    trainX, trainY, testX, testY = load_dataset()\n",
    "    #prepare pixel data\n",
    "    trainX, testX=prep_pixels(trainX, testX)\n",
    "    #define model\n",
    "    model=define_model()\n",
    "    #evaluate model\n",
    "    scores, histories = evaluate_model(model, trainX, trainY)\n",
    "    # learning curves\n",
    "    summarize_diagnostics(histories)\n",
    "    #summarize estimated performance\n",
    "    summarize_performance(scores)\n",
    "    return scores, histories\n",
    "    "
   ]
  },
  {
   "cell_type": "code",
   "execution_count": 51,
   "metadata": {},
   "outputs": [
    {
     "name": "stdout",
     "output_type": "stream",
     "text": [
      ">98.458\n",
      ">99.833\n",
      ">99.992\n",
      ">100.000\n",
      ">100.000\n"
     ]
    },
    {
     "name": "stderr",
     "output_type": "stream",
     "text": [
      "c:\\users\\dbitterman\\appdata\\local\\programs\\python\\python37\\lib\\site-packages\\ipykernel_launcher.py:12: MatplotlibDeprecationWarning: Adding an axes using the same arguments as a previous axes currently reuses the earlier instance.  In a future version, a new instance will always be created and returned.  Meanwhile, this warning can be suppressed, and the future behavior ensured, by passing a unique label to each axes instance.\n",
      "  if sys.path[0] == '':\n",
      "c:\\users\\dbitterman\\appdata\\local\\programs\\python\\python37\\lib\\site-packages\\ipykernel_launcher.py:7: MatplotlibDeprecationWarning: Adding an axes using the same arguments as a previous axes currently reuses the earlier instance.  In a future version, a new instance will always be created and returned.  Meanwhile, this warning can be suppressed, and the future behavior ensured, by passing a unique label to each axes instance.\n",
      "  import sys\n"
     ]
    },
    {
     "data": {
      "image/png": "[encoded data removed]",
      "text/plain": [
       "<Figure size 432x288 with 1 Axes>"
      ]
     },
     "metadata": {
      "needs_background": "light"
     },
     "output_type": "display_data"
    },
    {
     "name": "stdout",
     "output_type": "stream",
     "text": [
      "AccuracY: mean=99.657 std=0.603, n=5\n"
     ]
    },
    {
     "data": {
      "image/png": "[encoded data removed]",
      "text/plain": [
       "<Figure size 432x288 with 1 Axes>"
      ]
     },
     "metadata": {
      "needs_background": "light"
     },
     "output_type": "display_data"
    }
   ],
   "source": [
    "#entry point, run test harness\n",
    "run_test_harness()"
   ]
  },
  {
   "cell_type": "markdown",
   "metadata": {},
   "source": [
    "### Now will try to imrove the model"
   ]
  },
  {
   "cell_type": "markdown",
   "metadata": {},
   "source": [
    "#### Batch normalization: Changes the distribution of the output layer by standardizing outputs --> stabilizing and accelerating learning process"
   ]
  },
  {
   "cell_type": "code",
   "execution_count": 19,
   "metadata": {},
   "outputs": [],
   "source": [
    "# define new cnn model with batch normalization (also adding lr as parameter so easier to change later...)\n",
    "def define_model_adapted(learning):\n",
    "    model=Sequential()\n",
    "    #add a single convolutional layer with a small filer size (3,3) and modest number of filters (32)\n",
    "    #NB: all layers will use ReLU activation function and He weight initialization scheme (best practices)\n",
    "    model.add(Conv2D(32, (3,3), activation='relu',kernel_initializer='he_uniform',input_shape=(28,28,1)))\n",
    "    #add Batch normalization after convolutional layer\n",
    "    model.add(BatchNormalization())\n",
    "    #add a max pooling layer\n",
    "    model.add(MaxPooling2D((2,2)))\n",
    "    #Feature extractor: flatten filter maps to provide features to classifier\n",
    "    model.add(Flatten())\n",
    "    #dense layer to interpret features (will use 100 nodes here)\n",
    "    model.add(Dense(100, activation='relu',kernel_initializer='he_uniform'))\n",
    "    #add batch normalization after fully connected layer\n",
    "    model.add(BatchNormalization())\n",
    "    #output layer: task will be to classify each of the 10 digits, so output layer will need 10 nodes to predict prob distribution of the 10 classes\n",
    "    model.add(Dense(10, activation='softmax'))\n",
    "    #stochastic gradient descent optimizer: here, learning rate=0.01, and momentum=0.9\n",
    "    opt=SGD(lr=learning, momentum=0.9)\n",
    "    #compile model: categorical x-entropy loss function will be optimized and will monitor classification accuracy metric\n",
    "    model.compile(optimizer=opt, loss='categorical_crossentropy', metrics=['accuracy'])\n",
    "    return model"
   ]
  },
  {
   "cell_type": "code",
   "execution_count": 20,
   "metadata": {},
   "outputs": [],
   "source": [
    "#adjusted test harness, now using the cnn model with batch normalization and with learning rate as an input parameter for flexibility later on...\n",
    "\n",
    "def run_test_harness_adapted(learning):\n",
    "    #load and one hot encode dataset\n",
    "    trainX, trainY, testX, testY = load_dataset()\n",
    "    #prepare pixel data\n",
    "    trainX, testX=prep_pixels(trainX, testX)\n",
    "    #define model\n",
    "    model=define_model_adapted(learning)\n",
    "    #evaluate model\n",
    "    scores, histories = evaluate_model(model, trainX, trainY)\n",
    "    # learning curves\n",
    "    summarize_diagnostics(histories)\n",
    "    #summarize estimated performance\n",
    "    summarize_performance(scores)\n",
    "    return scores, histories"
   ]
  },
  {
   "cell_type": "code",
   "execution_count": 62,
   "metadata": {
    "scrolled": true
   },
   "outputs": [
    {
     "name": "stdout",
     "output_type": "stream",
     "text": [
      ">98.675\n",
      ">99.908\n",
      ">100.000\n",
      ">99.992\n",
      ">100.000\n"
     ]
    },
    {
     "name": "stderr",
     "output_type": "stream",
     "text": [
      "c:\\users\\dbitterman\\appdata\\local\\programs\\python\\python37\\lib\\site-packages\\ipykernel_launcher.py:7: MatplotlibDeprecationWarning: Adding an axes using the same arguments as a previous axes currently reuses the earlier instance.  In a future version, a new instance will always be created and returned.  Meanwhile, this warning can be suppressed, and the future behavior ensured, by passing a unique label to each axes instance.\n",
      "  import sys\n",
      "c:\\users\\dbitterman\\appdata\\local\\programs\\python\\python37\\lib\\site-packages\\ipykernel_launcher.py:12: MatplotlibDeprecationWarning: Adding an axes using the same arguments as a previous axes currently reuses the earlier instance.  In a future version, a new instance will always be created and returned.  Meanwhile, this warning can be suppressed, and the future behavior ensured, by passing a unique label to each axes instance.\n",
      "  if sys.path[0] == '':\n"
     ]
    },
    {
     "data": {
      "image/png": "[encoded data removed]",
      "text/plain": [
       "<Figure size 432x288 with 2 Axes>"
      ]
     },
     "metadata": {
      "needs_background": "light"
     },
     "output_type": "display_data"
    },
    {
     "name": "stdout",
     "output_type": "stream",
     "text": [
      "AccuracY: mean=99.715 std=0.521, n=5\n"
     ]
    },
    {
     "data": {
      "image/png": "[encoded data removed]",
      "text/plain": [
       "<Figure size 432x288 with 1 Axes>"
      ]
     },
     "metadata": {
      "needs_background": "light"
     },
     "output_type": "display_data"
    }
   ],
   "source": [
    "#entry point, run adapted test harness\n",
    "scores1, histories1 = run_test_harness_adapted(learning=0.01)"
   ]
  },
  {
   "cell_type": "markdown",
   "metadata": {},
   "source": [
    "#### Will try to improve model by increasing model depth"
   ]
  },
  {
   "cell_type": "code",
   "execution_count": 9,
   "metadata": {},
   "outputs": [],
   "source": [
    "def define_model_adapted_deeper(learning):\n",
    "    model=Sequential()\n",
    "    #add a single convolutional layer with a small filer size (3,3) and modest number of filters (32)\n",
    "    #NB: all layers will use ReLU activation function and He weight initialization scheme (best practices)\n",
    "    model.add(Conv2D(32, (3,3), activation='relu',kernel_initializer='he_uniform',input_shape=(28,28,1)))\n",
    "    #add Batch normalization after convolutional layer\n",
    "    model.add(BatchNormalization())\n",
    "    #add a max pooling layer\n",
    "    model.add(MaxPooling2D((2,2)))\n",
    "    #made model deeped than prior models by adding a double convolutional layer (64 filters each but same sized filters as above), followed by a max pooling layer\n",
    "    model.add(Conv2D(64, (3, 3), activation='relu', kernel_initializer='he_uniform'))\n",
    "    model.add(Conv2D(64, (3, 3), activation='relu', kernel_initializer='he_uniform'))\n",
    "    model.add(MaxPooling2D((2, 2)))\n",
    "    #Feature extractor: flatten filter maps to provide features to classifier\n",
    "    model.add(Flatten())\n",
    "    #dense layer to interpret features (will use 100 nodes here)\n",
    "    model.add(Dense(100, activation='relu',kernel_initializer='he_uniform'))\n",
    "    #add batch normalization after fully connected layer\n",
    "    model.add(BatchNormalization())\n",
    "    #output layer: task will be to classify each of the 10 digits, so output layer will need 10 nodes to predict prob distribution of the 10 classes\n",
    "    model.add(Dense(10, activation='softmax'))\n",
    "    #stochastic gradient descent optimizer: here, learning rate=0.01, and momentum=0.9\n",
    "    opt=SGD(lr=learning, momentum=0.9)\n",
    "    #compile model: categorical x-entropy loss function will be optimized and will monitor classification accuracy metric\n",
    "    model.compile(optimizer=opt, loss='categorical_crossentropy', metrics=['accuracy'])\n",
    "    return model"
   ]
  },
  {
   "cell_type": "code",
   "execution_count": 22,
   "metadata": {},
   "outputs": [],
   "source": [
    "\n",
    "#function for adapted and deeper model harness\n",
    "def run_test_harness_adapted_deeper(learning):\n",
    "    #load and one hot encode dataset\n",
    "    trainX, trainY, testX, testY = load_dataset()\n",
    "    #prepare pixel data\n",
    "    trainX, testX=prep_pixels(trainX, testX)\n",
    "    #define model\n",
    "    model=define_model_adapted_deeper(learning)\n",
    "    #evaluate model\n",
    "    scores, histories = evaluate_model(model, trainX, trainY)\n",
    "    # learning curves\n",
    "    summarize_diagnostics(histories)\n",
    "    #summarize estimated performance\n",
    "    summarize_performance(scores)\n",
    "    return scores, histories"
   ]
  },
  {
   "cell_type": "code",
   "execution_count": 97,
   "metadata": {},
   "outputs": [
    {
     "ename": "KeyboardInterrupt",
     "evalue": "",
     "output_type": "error",
     "traceback": [
      "\u001b[1;31m---------------------------------------------------------------------------\u001b[0m",
      "\u001b[1;31mKeyboardInterrupt\u001b[0m                         Traceback (most recent call last)",
      "\u001b[1;32m<ipython-input-97-229e058197a9>\u001b[0m in \u001b[0;36m<module>\u001b[1;34m\u001b[0m\n\u001b[0;32m      1\u001b[0m \u001b[1;31m#entry point, run adapted and deeper test harness\u001b[0m\u001b[1;33m\u001b[0m\u001b[1;33m\u001b[0m\u001b[1;33m\u001b[0m\u001b[0m\n\u001b[1;32m----> 2\u001b[1;33m \u001b[0mscores2\u001b[0m\u001b[1;33m,\u001b[0m \u001b[0mhistories2\u001b[0m \u001b[1;33m=\u001b[0m \u001b[0mrun_test_harness_adapted\u001b[0m\u001b[1;33m(\u001b[0m\u001b[0mlearning\u001b[0m\u001b[1;33m=\u001b[0m\u001b[1;36m0.01\u001b[0m\u001b[1;33m)\u001b[0m\u001b[1;33m\u001b[0m\u001b[1;33m\u001b[0m\u001b[0m\n\u001b[0m",
      "\u001b[1;32m<ipython-input-59-9ea2570f2a81>\u001b[0m in \u001b[0;36mrun_test_harness_adapted\u001b[1;34m(learning)\u001b[0m\n\u001b[0;32m      9\u001b[0m     \u001b[0mmodel\u001b[0m\u001b[1;33m=\u001b[0m\u001b[0mdefine_model_adapted\u001b[0m\u001b[1;33m(\u001b[0m\u001b[0mlearning\u001b[0m\u001b[1;33m)\u001b[0m\u001b[1;33m\u001b[0m\u001b[1;33m\u001b[0m\u001b[0m\n\u001b[0;32m     10\u001b[0m     \u001b[1;31m#evaluate model\u001b[0m\u001b[1;33m\u001b[0m\u001b[1;33m\u001b[0m\u001b[1;33m\u001b[0m\u001b[0m\n\u001b[1;32m---> 11\u001b[1;33m     \u001b[0mscores\u001b[0m\u001b[1;33m,\u001b[0m \u001b[0mhistories\u001b[0m \u001b[1;33m=\u001b[0m \u001b[0mevaluate_model\u001b[0m\u001b[1;33m(\u001b[0m\u001b[0mmodel\u001b[0m\u001b[1;33m,\u001b[0m \u001b[0mtrainX\u001b[0m\u001b[1;33m,\u001b[0m \u001b[0mtrainY\u001b[0m\u001b[1;33m)\u001b[0m\u001b[1;33m\u001b[0m\u001b[1;33m\u001b[0m\u001b[0m\n\u001b[0m\u001b[0;32m     12\u001b[0m     \u001b[1;31m# learning curves\u001b[0m\u001b[1;33m\u001b[0m\u001b[1;33m\u001b[0m\u001b[1;33m\u001b[0m\u001b[0m\n\u001b[0;32m     13\u001b[0m     \u001b[0msummarize_diagnostics\u001b[0m\u001b[1;33m(\u001b[0m\u001b[0mhistories\u001b[0m\u001b[1;33m)\u001b[0m\u001b[1;33m\u001b[0m\u001b[1;33m\u001b[0m\u001b[0m\n",
      "\u001b[1;32m<ipython-input-41-09b45fa92a83>\u001b[0m in \u001b[0;36mevaluate_model\u001b[1;34m(model, dataX, dataY, n_folds)\u001b[0m\n\u001b[0;32m     13\u001b[0m         \u001b[1;31m#fit model\u001b[0m\u001b[1;33m\u001b[0m\u001b[1;33m\u001b[0m\u001b[1;33m\u001b[0m\u001b[0m\n\u001b[0;32m     14\u001b[0m         \u001b[1;31m#will train using 10 trainig epochs and default batch size of 32\u001b[0m\u001b[1;33m\u001b[0m\u001b[1;33m\u001b[0m\u001b[1;33m\u001b[0m\u001b[0m\n\u001b[1;32m---> 15\u001b[1;33m         \u001b[0mhistory\u001b[0m\u001b[1;33m=\u001b[0m\u001b[0mmodel\u001b[0m\u001b[1;33m.\u001b[0m\u001b[0mfit\u001b[0m\u001b[1;33m(\u001b[0m\u001b[0mtrainX\u001b[0m\u001b[1;33m,\u001b[0m \u001b[0mtrainY\u001b[0m\u001b[1;33m,\u001b[0m \u001b[0mepochs\u001b[0m\u001b[1;33m=\u001b[0m\u001b[1;36m10\u001b[0m\u001b[1;33m,\u001b[0m \u001b[0mbatch_size\u001b[0m\u001b[1;33m=\u001b[0m\u001b[1;36m32\u001b[0m\u001b[1;33m,\u001b[0m \u001b[0mvalidation_data\u001b[0m\u001b[1;33m=\u001b[0m\u001b[1;33m(\u001b[0m\u001b[0mtestX\u001b[0m\u001b[1;33m,\u001b[0m \u001b[0mtestY\u001b[0m\u001b[1;33m)\u001b[0m\u001b[1;33m,\u001b[0m \u001b[0mverbose\u001b[0m\u001b[1;33m=\u001b[0m\u001b[1;36m0\u001b[0m\u001b[1;33m)\u001b[0m\u001b[1;33m\u001b[0m\u001b[1;33m\u001b[0m\u001b[0m\n\u001b[0m\u001b[0;32m     16\u001b[0m         \u001b[1;31m#evaluate model\u001b[0m\u001b[1;33m\u001b[0m\u001b[1;33m\u001b[0m\u001b[1;33m\u001b[0m\u001b[0m\n\u001b[0;32m     17\u001b[0m         \u001b[0m_\u001b[0m\u001b[1;33m,\u001b[0m \u001b[0macc\u001b[0m\u001b[1;33m=\u001b[0m\u001b[0mmodel\u001b[0m\u001b[1;33m.\u001b[0m\u001b[0mevaluate\u001b[0m\u001b[1;33m(\u001b[0m\u001b[0mtestX\u001b[0m\u001b[1;33m,\u001b[0m \u001b[0mtestY\u001b[0m\u001b[1;33m,\u001b[0m \u001b[0mverbose\u001b[0m\u001b[1;33m=\u001b[0m\u001b[1;36m0\u001b[0m\u001b[1;33m)\u001b[0m\u001b[1;33m\u001b[0m\u001b[1;33m\u001b[0m\u001b[0m\n",
      "\u001b[1;32mc:\\users\\dbitterman\\appdata\\local\\programs\\python\\python37\\lib\\site-packages\\keras\\engine\\training.py\u001b[0m in \u001b[0;36mfit\u001b[1;34m(self, x, y, batch_size, epochs, verbose, callbacks, validation_split, validation_data, shuffle, class_weight, sample_weight, initial_epoch, steps_per_epoch, validation_steps, validation_freq, max_queue_size, workers, use_multiprocessing, **kwargs)\u001b[0m\n\u001b[0;32m   1237\u001b[0m                                         \u001b[0msteps_per_epoch\u001b[0m\u001b[1;33m=\u001b[0m\u001b[0msteps_per_epoch\u001b[0m\u001b[1;33m,\u001b[0m\u001b[1;33m\u001b[0m\u001b[1;33m\u001b[0m\u001b[0m\n\u001b[0;32m   1238\u001b[0m                                         \u001b[0mvalidation_steps\u001b[0m\u001b[1;33m=\u001b[0m\u001b[0mvalidation_steps\u001b[0m\u001b[1;33m,\u001b[0m\u001b[1;33m\u001b[0m\u001b[1;33m\u001b[0m\u001b[0m\n\u001b[1;32m-> 1239\u001b[1;33m                                         validation_freq=validation_freq)\n\u001b[0m\u001b[0;32m   1240\u001b[0m \u001b[1;33m\u001b[0m\u001b[0m\n\u001b[0;32m   1241\u001b[0m     def evaluate(self,\n",
      "\u001b[1;32mc:\\users\\dbitterman\\appdata\\local\\programs\\python\\python37\\lib\\site-packages\\keras\\engine\\training_arrays.py\u001b[0m in \u001b[0;36mfit_loop\u001b[1;34m(model, fit_function, fit_inputs, out_labels, batch_size, epochs, verbose, callbacks, val_function, val_inputs, shuffle, initial_epoch, steps_per_epoch, validation_steps, validation_freq)\u001b[0m\n\u001b[0;32m    194\u001b[0m                     \u001b[0mins_batch\u001b[0m\u001b[1;33m[\u001b[0m\u001b[0mi\u001b[0m\u001b[1;33m]\u001b[0m \u001b[1;33m=\u001b[0m \u001b[0mins_batch\u001b[0m\u001b[1;33m[\u001b[0m\u001b[0mi\u001b[0m\u001b[1;33m]\u001b[0m\u001b[1;33m.\u001b[0m\u001b[0mtoarray\u001b[0m\u001b[1;33m(\u001b[0m\u001b[1;33m)\u001b[0m\u001b[1;33m\u001b[0m\u001b[1;33m\u001b[0m\u001b[0m\n\u001b[0;32m    195\u001b[0m \u001b[1;33m\u001b[0m\u001b[0m\n\u001b[1;32m--> 196\u001b[1;33m                 \u001b[0mouts\u001b[0m \u001b[1;33m=\u001b[0m \u001b[0mfit_function\u001b[0m\u001b[1;33m(\u001b[0m\u001b[0mins_batch\u001b[0m\u001b[1;33m)\u001b[0m\u001b[1;33m\u001b[0m\u001b[1;33m\u001b[0m\u001b[0m\n\u001b[0m\u001b[0;32m    197\u001b[0m                 \u001b[0mouts\u001b[0m \u001b[1;33m=\u001b[0m \u001b[0mto_list\u001b[0m\u001b[1;33m(\u001b[0m\u001b[0mouts\u001b[0m\u001b[1;33m)\u001b[0m\u001b[1;33m\u001b[0m\u001b[1;33m\u001b[0m\u001b[0m\n\u001b[0;32m    198\u001b[0m                 \u001b[1;32mfor\u001b[0m \u001b[0ml\u001b[0m\u001b[1;33m,\u001b[0m \u001b[0mo\u001b[0m \u001b[1;32min\u001b[0m \u001b[0mzip\u001b[0m\u001b[1;33m(\u001b[0m\u001b[0mout_labels\u001b[0m\u001b[1;33m,\u001b[0m \u001b[0mouts\u001b[0m\u001b[1;33m)\u001b[0m\u001b[1;33m:\u001b[0m\u001b[1;33m\u001b[0m\u001b[1;33m\u001b[0m\u001b[0m\n",
      "\u001b[1;32mc:\\users\\dbitterman\\appdata\\local\\programs\\python\\python37\\lib\\site-packages\\tensorflow_core\\python\\keras\\backend.py\u001b[0m in \u001b[0;36m__call__\u001b[1;34m(self, inputs)\u001b[0m\n\u001b[0;32m   3738\u001b[0m         \u001b[0mvalue\u001b[0m \u001b[1;33m=\u001b[0m \u001b[0mmath_ops\u001b[0m\u001b[1;33m.\u001b[0m\u001b[0mcast\u001b[0m\u001b[1;33m(\u001b[0m\u001b[0mvalue\u001b[0m\u001b[1;33m,\u001b[0m \u001b[0mtensor\u001b[0m\u001b[1;33m.\u001b[0m\u001b[0mdtype\u001b[0m\u001b[1;33m)\u001b[0m\u001b[1;33m\u001b[0m\u001b[1;33m\u001b[0m\u001b[0m\n\u001b[0;32m   3739\u001b[0m       \u001b[0mconverted_inputs\u001b[0m\u001b[1;33m.\u001b[0m\u001b[0mappend\u001b[0m\u001b[1;33m(\u001b[0m\u001b[0mvalue\u001b[0m\u001b[1;33m)\u001b[0m\u001b[1;33m\u001b[0m\u001b[1;33m\u001b[0m\u001b[0m\n\u001b[1;32m-> 3740\u001b[1;33m     \u001b[0moutputs\u001b[0m \u001b[1;33m=\u001b[0m \u001b[0mself\u001b[0m\u001b[1;33m.\u001b[0m\u001b[0m_graph_fn\u001b[0m\u001b[1;33m(\u001b[0m\u001b[1;33m*\u001b[0m\u001b[0mconverted_inputs\u001b[0m\u001b[1;33m)\u001b[0m\u001b[1;33m\u001b[0m\u001b[1;33m\u001b[0m\u001b[0m\n\u001b[0m\u001b[0;32m   3741\u001b[0m \u001b[1;33m\u001b[0m\u001b[0m\n\u001b[0;32m   3742\u001b[0m     \u001b[1;31m# EagerTensor.numpy() will often make a copy to ensure memory safety.\u001b[0m\u001b[1;33m\u001b[0m\u001b[1;33m\u001b[0m\u001b[1;33m\u001b[0m\u001b[0m\n",
      "\u001b[1;32mc:\\users\\dbitterman\\appdata\\local\\programs\\python\\python37\\lib\\site-packages\\tensorflow_core\\python\\eager\\function.py\u001b[0m in \u001b[0;36m__call__\u001b[1;34m(self, *args, **kwargs)\u001b[0m\n\u001b[0;32m   1079\u001b[0m       \u001b[0mTypeError\u001b[0m\u001b[1;33m:\u001b[0m \u001b[0mFor\u001b[0m \u001b[0minvalid\u001b[0m \u001b[0mpositional\u001b[0m\u001b[1;33m/\u001b[0m\u001b[0mkeyword\u001b[0m \u001b[0margument\u001b[0m \u001b[0mcombinations\u001b[0m\u001b[1;33m.\u001b[0m\u001b[1;33m\u001b[0m\u001b[1;33m\u001b[0m\u001b[0m\n\u001b[0;32m   1080\u001b[0m     \"\"\"\n\u001b[1;32m-> 1081\u001b[1;33m     \u001b[1;32mreturn\u001b[0m \u001b[0mself\u001b[0m\u001b[1;33m.\u001b[0m\u001b[0m_call_impl\u001b[0m\u001b[1;33m(\u001b[0m\u001b[0margs\u001b[0m\u001b[1;33m,\u001b[0m \u001b[0mkwargs\u001b[0m\u001b[1;33m)\u001b[0m\u001b[1;33m\u001b[0m\u001b[1;33m\u001b[0m\u001b[0m\n\u001b[0m\u001b[0;32m   1082\u001b[0m \u001b[1;33m\u001b[0m\u001b[0m\n\u001b[0;32m   1083\u001b[0m   \u001b[1;32mdef\u001b[0m \u001b[0m_call_impl\u001b[0m\u001b[1;33m(\u001b[0m\u001b[0mself\u001b[0m\u001b[1;33m,\u001b[0m \u001b[0margs\u001b[0m\u001b[1;33m,\u001b[0m \u001b[0mkwargs\u001b[0m\u001b[1;33m,\u001b[0m \u001b[0mcancellation_manager\u001b[0m\u001b[1;33m=\u001b[0m\u001b[1;32mNone\u001b[0m\u001b[1;33m)\u001b[0m\u001b[1;33m:\u001b[0m\u001b[1;33m\u001b[0m\u001b[1;33m\u001b[0m\u001b[0m\n",
      "\u001b[1;32mc:\\users\\dbitterman\\appdata\\local\\programs\\python\\python37\\lib\\site-packages\\tensorflow_core\\python\\eager\\function.py\u001b[0m in \u001b[0;36m_call_impl\u001b[1;34m(self, args, kwargs, cancellation_manager)\u001b[0m\n\u001b[0;32m   1119\u001b[0m       raise TypeError(\"Keyword arguments {} unknown. Expected {}.\".format(\n\u001b[0;32m   1120\u001b[0m           list(kwargs.keys()), list(self._arg_keywords)))\n\u001b[1;32m-> 1121\u001b[1;33m     \u001b[1;32mreturn\u001b[0m \u001b[0mself\u001b[0m\u001b[1;33m.\u001b[0m\u001b[0m_call_flat\u001b[0m\u001b[1;33m(\u001b[0m\u001b[0margs\u001b[0m\u001b[1;33m,\u001b[0m \u001b[0mself\u001b[0m\u001b[1;33m.\u001b[0m\u001b[0mcaptured_inputs\u001b[0m\u001b[1;33m,\u001b[0m \u001b[0mcancellation_manager\u001b[0m\u001b[1;33m)\u001b[0m\u001b[1;33m\u001b[0m\u001b[1;33m\u001b[0m\u001b[0m\n\u001b[0m\u001b[0;32m   1122\u001b[0m \u001b[1;33m\u001b[0m\u001b[0m\n\u001b[0;32m   1123\u001b[0m   \u001b[1;32mdef\u001b[0m \u001b[0m_filtered_call\u001b[0m\u001b[1;33m(\u001b[0m\u001b[0mself\u001b[0m\u001b[1;33m,\u001b[0m \u001b[0margs\u001b[0m\u001b[1;33m,\u001b[0m \u001b[0mkwargs\u001b[0m\u001b[1;33m)\u001b[0m\u001b[1;33m:\u001b[0m\u001b[1;33m\u001b[0m\u001b[1;33m\u001b[0m\u001b[0m\n",
      "\u001b[1;32mc:\\users\\dbitterman\\appdata\\local\\programs\\python\\python37\\lib\\site-packages\\tensorflow_core\\python\\eager\\function.py\u001b[0m in \u001b[0;36m_call_flat\u001b[1;34m(self, args, captured_inputs, cancellation_manager)\u001b[0m\n\u001b[0;32m   1222\u001b[0m     \u001b[1;32mif\u001b[0m \u001b[0mexecuting_eagerly\u001b[0m\u001b[1;33m:\u001b[0m\u001b[1;33m\u001b[0m\u001b[1;33m\u001b[0m\u001b[0m\n\u001b[0;32m   1223\u001b[0m       flat_outputs = forward_function.call(\n\u001b[1;32m-> 1224\u001b[1;33m           ctx, args, cancellation_manager=cancellation_manager)\n\u001b[0m\u001b[0;32m   1225\u001b[0m     \u001b[1;32melse\u001b[0m\u001b[1;33m:\u001b[0m\u001b[1;33m\u001b[0m\u001b[1;33m\u001b[0m\u001b[0m\n\u001b[0;32m   1226\u001b[0m       \u001b[0mgradient_name\u001b[0m \u001b[1;33m=\u001b[0m \u001b[0mself\u001b[0m\u001b[1;33m.\u001b[0m\u001b[0m_delayed_rewrite_functions\u001b[0m\u001b[1;33m.\u001b[0m\u001b[0mregister\u001b[0m\u001b[1;33m(\u001b[0m\u001b[1;33m)\u001b[0m\u001b[1;33m\u001b[0m\u001b[1;33m\u001b[0m\u001b[0m\n",
      "\u001b[1;32mc:\\users\\dbitterman\\appdata\\local\\programs\\python\\python37\\lib\\site-packages\\tensorflow_core\\python\\eager\\function.py\u001b[0m in \u001b[0;36mcall\u001b[1;34m(self, ctx, args, cancellation_manager)\u001b[0m\n\u001b[0;32m    509\u001b[0m               \u001b[0minputs\u001b[0m\u001b[1;33m=\u001b[0m\u001b[0margs\u001b[0m\u001b[1;33m,\u001b[0m\u001b[1;33m\u001b[0m\u001b[1;33m\u001b[0m\u001b[0m\n\u001b[0;32m    510\u001b[0m               \u001b[0mattrs\u001b[0m\u001b[1;33m=\u001b[0m\u001b[1;33m(\u001b[0m\u001b[1;34m\"executor_type\"\u001b[0m\u001b[1;33m,\u001b[0m \u001b[0mexecutor_type\u001b[0m\u001b[1;33m,\u001b[0m \u001b[1;34m\"config_proto\"\u001b[0m\u001b[1;33m,\u001b[0m \u001b[0mconfig\u001b[0m\u001b[1;33m)\u001b[0m\u001b[1;33m,\u001b[0m\u001b[1;33m\u001b[0m\u001b[1;33m\u001b[0m\u001b[0m\n\u001b[1;32m--> 511\u001b[1;33m               ctx=ctx)\n\u001b[0m\u001b[0;32m    512\u001b[0m         \u001b[1;32melse\u001b[0m\u001b[1;33m:\u001b[0m\u001b[1;33m\u001b[0m\u001b[1;33m\u001b[0m\u001b[0m\n\u001b[0;32m    513\u001b[0m           outputs = execute.execute_with_cancellation(\n",
      "\u001b[1;32mc:\\users\\dbitterman\\appdata\\local\\programs\\python\\python37\\lib\\site-packages\\tensorflow_core\\python\\eager\\execute.py\u001b[0m in \u001b[0;36mquick_execute\u001b[1;34m(op_name, num_outputs, inputs, attrs, ctx, name)\u001b[0m\n\u001b[0;32m     59\u001b[0m     tensors = pywrap_tensorflow.TFE_Py_Execute(ctx._handle, device_name,\n\u001b[0;32m     60\u001b[0m                                                \u001b[0mop_name\u001b[0m\u001b[1;33m,\u001b[0m \u001b[0minputs\u001b[0m\u001b[1;33m,\u001b[0m \u001b[0mattrs\u001b[0m\u001b[1;33m,\u001b[0m\u001b[1;33m\u001b[0m\u001b[1;33m\u001b[0m\u001b[0m\n\u001b[1;32m---> 61\u001b[1;33m                                                num_outputs)\n\u001b[0m\u001b[0;32m     62\u001b[0m   \u001b[1;32mexcept\u001b[0m \u001b[0mcore\u001b[0m\u001b[1;33m.\u001b[0m\u001b[0m_NotOkStatusException\u001b[0m \u001b[1;32mas\u001b[0m \u001b[0me\u001b[0m\u001b[1;33m:\u001b[0m\u001b[1;33m\u001b[0m\u001b[1;33m\u001b[0m\u001b[0m\n\u001b[0;32m     63\u001b[0m     \u001b[1;32mif\u001b[0m \u001b[0mname\u001b[0m \u001b[1;32mis\u001b[0m \u001b[1;32mnot\u001b[0m \u001b[1;32mNone\u001b[0m\u001b[1;33m:\u001b[0m\u001b[1;33m\u001b[0m\u001b[1;33m\u001b[0m\u001b[0m\n",
      "\u001b[1;31mKeyboardInterrupt\u001b[0m: "
     ]
    }
   ],
   "source": [
    "#entry point, run adapted and deeper test harness\n",
    "scores2, histories2 = run_test_harness_adapted(learning=0.01)"
   ]
  },
  {
   "cell_type": "markdown",
   "metadata": {},
   "source": [
    "#### now I am going to change the model eval so that is quicker and I can play aorund with learning rates etc"
   ]
  },
  {
   "cell_type": "code",
   "execution_count": 23,
   "metadata": {},
   "outputs": [],
   "source": [
    "#this just splits training data into train and test 0.8/0.2, instead of x-validation\n",
    "def evaluate_model_simple(model, dataX, dataY):\n",
    "    scores, histories = list(), list()\n",
    "    #split into train and test\n",
    "    trainX, testX, trainY, testY = train_test_split(dataX, dataY, test_size=0.2, random_state=42)\n",
    "    #fit model\n",
    "    #will train using 10 trainig epochs and default batch size of 32\n",
    "    history=model.fit(trainX, trainY, epochs=10, batch_size=32, validation_data=(testX, testY), verbose=0)\n",
    "    #evaluate model\n",
    "    _, acc=model.evaluate(testX, testY, verbose=0)\n",
    "    print('>%.3f' % (acc*100.0))\n",
    "    #scores stores classification accuracy of each fold at the end of each run so we can estimate model performance\n",
    "    scores.append(acc)\n",
    "    #histories stores  training loss values and metrics values at successive epochs, as well as validation loss values and validation metrics values (if applicable) so that we can plot the learning rate over each epoch\n",
    "    histories.append(history)\n",
    "    return scores, histories"
   ]
  },
  {
   "cell_type": "code",
   "execution_count": 24,
   "metadata": {},
   "outputs": [],
   "source": [
    "#simplified test harness using the above\n",
    "def run_test_harness_simplified(learning):\n",
    "    #load and one hot encode dataset\n",
    "    trainX, trainY, testX, testY = load_dataset()\n",
    "    #prepare pixel data\n",
    "    trainX, testX=prep_pixels(trainX, testX)\n",
    "    #define model\n",
    "    model=define_model_adapted_deeper(learning)\n",
    "    #evaluate model\n",
    "    scores, histories = evaluate_model_simple(model, trainX, trainY)\n",
    "    # learning curves\n",
    "    summarize_diagnostics(histories)\n",
    "    #summarize estimated performance\n",
    "    summarize_performance(scores)\n",
    "    return scores, histories"
   ]
  },
  {
   "cell_type": "code",
   "execution_count": 108,
   "metadata": {},
   "outputs": [
    {
     "name": "stdout",
     "output_type": "stream",
     "text": [
      ">99.117\n"
     ]
    },
    {
     "data": {
      "image/png": "[encoded data removed]",
      "text/plain": [
       "<Figure size 432x288 with 2 Axes>"
      ]
     },
     "metadata": {
      "needs_background": "light"
     },
     "output_type": "display_data"
    },
    {
     "name": "stdout",
     "output_type": "stream",
     "text": [
      "AccuracY: mean=99.117 std=0.000, n=1\n"
     ]
    },
    {
     "data": {
      "image/png": "[encoded data removed]",
      "text/plain": [
       "<Figure size 432x288 with 1 Axes>"
      ]
     },
     "metadata": {
      "needs_background": "light"
     },
     "output_type": "display_data"
    }
   ],
   "source": [
    "scores3, histories3 = run_test_harness_simplified(learning=0.01)"
   ]
  },
  {
   "cell_type": "code",
   "execution_count": 25,
   "metadata": {},
   "outputs": [],
   "source": [
    "#same as above, but epochs and batch size are also parameters and returns acc and history just for this run\n",
    "def evaluate_model_simple(model, dataX, dataY, eps, bs):\n",
    "    #split into train and test\n",
    "    trainX, testX, trainY, testY = train_test_split(dataX, dataY, test_size=0.2, random_state=42)\n",
    "    #fit model\n",
    "    history=model.fit(trainX, trainY, epochs=eps, batch_size=bs, validation_data=(testX, testY), verbose=0)\n",
    "    #evaluate model\n",
    "    _, acc=model.evaluate(testX, testY, verbose=0)\n",
    "    print('>%.3f' % (acc*100.0))\n",
    "    return acc, history\n",
    "\n",
    "#present results\n",
    "\n",
    "#fxn to plot diagnostic learning curves: line plot showing model performance on train and test set during each k-fold validation to get a sense for over vs underfitting\n",
    "def summarize_diagnostics(history, learning, eps, bs):\n",
    "    #plot loss\n",
    "    pyplot.subplot(211)\n",
    "    pyplot.title('Cross Entropy Loss, lrate={}, epochs={}, batch_size={}'.format(learning, eps, bs))\n",
    "    pyplot.title('lrate='+str(learning), pad=-50)\n",
    "    pyplot.plot(history.history['loss'], color='blue', label='train')\n",
    "    pyplot.plot(history.history['val_loss'], color='orange', label='test')\n",
    "    #plot accuracy\n",
    "    pyplot.subplot(212)\n",
    "    pyplot.title('Classification Accuracy, lrate={}, epochs={}, batch_size={}'.format(learning, eps, bs))\n",
    "    pyplot.plot(history.history['accuracy'], color='blue', label='train')\n",
    "    pyplot.plot(history.history['val_accuracy'], color='orange', label='test')\n",
    "    pyplot.show()\n",
    "    \n",
    "#function to summarize the classification accuracy scores collected during each fold\n",
    "def summarize_performance(acc):\n",
    "    #print summary\n",
    "    print('Accuracy: mean=%.3f std=%.3f, n=%d' % (mean(acc)*100, std(acc)*100, len(acc)))\n",
    "\n",
    "#test harness\n",
    "def run_test_harness_simplified(learning, eps, bs):\n",
    "    #load and one hot encode dataset\n",
    "    trainX, trainY, testX, testY = load_dataset()\n",
    "    #prepare pixel data\n",
    "    trainX, testX=prep_pixels(trainX, testX)\n",
    "    #define model\n",
    "    model=define_model_adapted_deeper(learning)\n",
    "    #evaluate performance across range of learning rates\n",
    "    acc, history = evaluate_model_simple(model, trainX, trainY, eps, bs)\n",
    "    # learning curves\n",
    "    summarize_diagnostics(history, learning, eps, bs)\n",
    "    #summarize estimated performance\n",
    "    summarize_performance(acc)\n",
    "    return acc, history"
   ]
  },
  {
   "cell_type": "code",
   "execution_count": 117,
   "metadata": {},
   "outputs": [
    {
     "name": "stdout",
     "output_type": "stream",
     "text": [
      ">9.792\n"
     ]
    },
    {
     "ename": "NameError",
     "evalue": "name 'lrate' is not defined",
     "output_type": "error",
     "traceback": [
      "\u001b[1;31m---------------------------------------------------------------------------\u001b[0m",
      "\u001b[1;31mNameError\u001b[0m                                 Traceback (most recent call last)",
      "\u001b[1;32m<ipython-input-117-e8725360d2ee>\u001b[0m in \u001b[0;36m<module>\u001b[1;34m\u001b[0m\n\u001b[1;32m----> 1\u001b[1;33m \u001b[0mscores4\u001b[0m\u001b[1;33m,\u001b[0m \u001b[0mhistories4\u001b[0m \u001b[1;33m=\u001b[0m \u001b[0mrun_test_harness_simplified\u001b[0m\u001b[1;33m(\u001b[0m\u001b[0mlearning\u001b[0m\u001b[1;33m=\u001b[0m\u001b[1;36m0.5\u001b[0m\u001b[1;33m,\u001b[0m \u001b[0meps\u001b[0m\u001b[1;33m=\u001b[0m\u001b[1;36m10\u001b[0m\u001b[1;33m,\u001b[0m \u001b[0mbs\u001b[0m\u001b[1;33m=\u001b[0m\u001b[1;36m32\u001b[0m\u001b[1;33m)\u001b[0m\u001b[1;33m\u001b[0m\u001b[1;33m\u001b[0m\u001b[0m\n\u001b[0m",
      "\u001b[1;32m<ipython-input-116-ebb57f410977>\u001b[0m in \u001b[0;36mrun_test_harness_simplified\u001b[1;34m(learning, eps, bs)\u001b[0m\n\u001b[0;32m     44\u001b[0m     \u001b[0macc\u001b[0m\u001b[1;33m,\u001b[0m \u001b[0mhistory\u001b[0m \u001b[1;33m=\u001b[0m \u001b[0mevaluate_model_simple\u001b[0m\u001b[1;33m(\u001b[0m\u001b[0mmodel\u001b[0m\u001b[1;33m,\u001b[0m \u001b[0mtrainX\u001b[0m\u001b[1;33m,\u001b[0m \u001b[0mtrainY\u001b[0m\u001b[1;33m,\u001b[0m \u001b[0meps\u001b[0m\u001b[1;33m,\u001b[0m \u001b[0mbs\u001b[0m\u001b[1;33m)\u001b[0m\u001b[1;33m\u001b[0m\u001b[1;33m\u001b[0m\u001b[0m\n\u001b[0;32m     45\u001b[0m     \u001b[1;31m# learning curves\u001b[0m\u001b[1;33m\u001b[0m\u001b[1;33m\u001b[0m\u001b[1;33m\u001b[0m\u001b[0m\n\u001b[1;32m---> 46\u001b[1;33m     \u001b[0msummarize_diagnostics\u001b[0m\u001b[1;33m(\u001b[0m\u001b[0mhistory\u001b[0m\u001b[1;33m,\u001b[0m \u001b[0mlearning\u001b[0m\u001b[1;33m,\u001b[0m \u001b[0meps\u001b[0m\u001b[1;33m,\u001b[0m \u001b[0mbs\u001b[0m\u001b[1;33m)\u001b[0m\u001b[1;33m\u001b[0m\u001b[1;33m\u001b[0m\u001b[0m\n\u001b[0m\u001b[0;32m     47\u001b[0m     \u001b[1;31m#summarize estimated performance\u001b[0m\u001b[1;33m\u001b[0m\u001b[1;33m\u001b[0m\u001b[1;33m\u001b[0m\u001b[0m\n\u001b[0;32m     48\u001b[0m     \u001b[0msummarize_performance\u001b[0m\u001b[1;33m(\u001b[0m\u001b[0macc\u001b[0m\u001b[1;33m)\u001b[0m\u001b[1;33m\u001b[0m\u001b[1;33m\u001b[0m\u001b[0m\n",
      "\u001b[1;32m<ipython-input-116-ebb57f410977>\u001b[0m in \u001b[0;36msummarize_diagnostics\u001b[1;34m(history, learning, eps, bs)\u001b[0m\n\u001b[0;32m     18\u001b[0m     \u001b[0mpyplot\u001b[0m\u001b[1;33m.\u001b[0m\u001b[0msubplot\u001b[0m\u001b[1;33m(\u001b[0m\u001b[1;36m211\u001b[0m\u001b[1;33m)\u001b[0m\u001b[1;33m\u001b[0m\u001b[1;33m\u001b[0m\u001b[0m\n\u001b[0;32m     19\u001b[0m     \u001b[0mpyplot\u001b[0m\u001b[1;33m.\u001b[0m\u001b[0mtitle\u001b[0m\u001b[1;33m(\u001b[0m\u001b[1;34m'Cross Entropy Loss, lrate={}, epochs={}, batch_size={}'\u001b[0m\u001b[1;33m.\u001b[0m\u001b[0mformat\u001b[0m\u001b[1;33m(\u001b[0m\u001b[0mlearning\u001b[0m\u001b[1;33m,\u001b[0m \u001b[0meps\u001b[0m\u001b[1;33m,\u001b[0m \u001b[0mbs\u001b[0m\u001b[1;33m)\u001b[0m\u001b[1;33m)\u001b[0m\u001b[1;33m\u001b[0m\u001b[1;33m\u001b[0m\u001b[0m\n\u001b[1;32m---> 20\u001b[1;33m     \u001b[0mpyplot\u001b[0m\u001b[1;33m.\u001b[0m\u001b[0mtitle\u001b[0m\u001b[1;33m(\u001b[0m\u001b[1;34m'lrate='\u001b[0m\u001b[1;33m+\u001b[0m\u001b[0mstr\u001b[0m\u001b[1;33m(\u001b[0m\u001b[0mlrate\u001b[0m\u001b[1;33m)\u001b[0m\u001b[1;33m,\u001b[0m \u001b[0mpad\u001b[0m\u001b[1;33m=\u001b[0m\u001b[1;33m-\u001b[0m\u001b[1;36m50\u001b[0m\u001b[1;33m)\u001b[0m\u001b[1;33m\u001b[0m\u001b[1;33m\u001b[0m\u001b[0m\n\u001b[0m\u001b[0;32m     21\u001b[0m     \u001b[0mpyplot\u001b[0m\u001b[1;33m.\u001b[0m\u001b[0mplot\u001b[0m\u001b[1;33m(\u001b[0m\u001b[0mhistory\u001b[0m\u001b[1;33m.\u001b[0m\u001b[0mhistory\u001b[0m\u001b[1;33m[\u001b[0m\u001b[1;34m'loss'\u001b[0m\u001b[1;33m]\u001b[0m\u001b[1;33m,\u001b[0m \u001b[0mcolor\u001b[0m\u001b[1;33m=\u001b[0m\u001b[1;34m'blue'\u001b[0m\u001b[1;33m,\u001b[0m \u001b[0mlabel\u001b[0m\u001b[1;33m=\u001b[0m\u001b[1;34m'train'\u001b[0m\u001b[1;33m)\u001b[0m\u001b[1;33m\u001b[0m\u001b[1;33m\u001b[0m\u001b[0m\n\u001b[0;32m     22\u001b[0m     \u001b[0mpyplot\u001b[0m\u001b[1;33m.\u001b[0m\u001b[0mplot\u001b[0m\u001b[1;33m(\u001b[0m\u001b[0mhistory\u001b[0m\u001b[1;33m.\u001b[0m\u001b[0mhistory\u001b[0m\u001b[1;33m[\u001b[0m\u001b[1;34m'val_loss'\u001b[0m\u001b[1;33m]\u001b[0m\u001b[1;33m,\u001b[0m \u001b[0mcolor\u001b[0m\u001b[1;33m=\u001b[0m\u001b[1;34m'orange'\u001b[0m\u001b[1;33m,\u001b[0m \u001b[0mlabel\u001b[0m\u001b[1;33m=\u001b[0m\u001b[1;34m'test'\u001b[0m\u001b[1;33m)\u001b[0m\u001b[1;33m\u001b[0m\u001b[1;33m\u001b[0m\u001b[0m\n",
      "\u001b[1;31mNameError\u001b[0m: name 'lrate' is not defined"
     ]
    },
    {
     "data": {
      "image/png": "[encoded data removed]",
      "text/plain": [
       "<Figure size 432x288 with 1 Axes>"
      ]
     },
     "metadata": {
      "needs_background": "light"
     },
     "output_type": "display_data"
    }
   ],
   "source": [
    "scores4, histories4 = run_test_harness_simplified(learning=0.5, eps=10, bs=32)"
   ]
  },
  {
   "cell_type": "code",
   "execution_count": 2,
   "metadata": {},
   "outputs": [],
   "source": [
    "# Now going to back adjustments to test range of learning rates and plot loss all together\n",
    "#same as above, but epochs and batch size are also parameters and returns acc and history just for this run\n",
    "def evaluate_model_simple(model, dataX, dataY, eps, bs, learning):\n",
    "    #split into train and test\n",
    "    trainX, testX, trainY, testY = train_test_split(dataX, dataY, test_size=0.2, random_state=42)\n",
    "    #fit model\n",
    "    history=model.fit(trainX, trainY, epochs=eps, batch_size=bs, validation_data=(testX, testY), verbose=0)\n",
    "    #evaluate model\n",
    "    _, acc=model.evaluate(testX, testY, verbose=0)\n",
    "    print('>Accuracy: %.3f' % (acc*100.0))\n",
    "    #plot loss over learning rate\n",
    "    pyplot.title('Cross Entropy Loss, lrate={}'.format(learning))\n",
    "    pyplot.title('lrate='+str(learning), pad=-50)\n",
    "    pyplot.plot(history.history['loss'], color='blue', label='train')\n",
    "    pyplot.plot(history.history['val_loss'], color='orange', label='test')\n",
    "    return acc, history\n",
    "\n",
    "#test harness\n",
    "def run_test_harness_simplified_over_lr(eps, bs):\n",
    "    #load and one hot encode dataset\n",
    "    trainX, trainY, testX, testY = load_dataset()\n",
    "    #prepare pixel data\n",
    "    trainX, testX=prep_pixels(trainX, testX)\n",
    "    #define and evaluate model across range of learning rates\n",
    "    learning_rates=[1, 0.5, 0.3, 0.1, 0.01, 0.001]\n",
    "    accuracies=[]\n",
    "    histories=[]\n",
    "    for i in range(len(learning_rates)):\n",
    "        #determine plot no\n",
    "        plot_no = 420 + (i+1)\n",
    "        pyplot.subplot(plot_no)\n",
    "        model=define_model_adapted_deeper(learning_rates[i])\n",
    "        acc, history = evaluate_model_simple(model, trainX, trainY, eps, bs, learning_rates[i])\n",
    "        accuracies.append(acc)\n",
    "        histories.append(history)\n",
    "    return accuracies, histories\n",
    "    #show learning curves\n",
    "    pyplot.show()"
   ]
  },
  {
   "cell_type": "code",
   "execution_count": 31,
   "metadata": {},
   "outputs": [
    {
     "name": "stdout",
     "output_type": "stream",
     "text": [
      ">Accuracy: 9.792\n",
      ">Accuracy: 9.792\n",
      ">Accuracy: 98.767\n",
      ">Accuracy: 98.025\n",
      ">Accuracy: 99.058\n",
      ">Accuracy: 98.567\n"
     ]
    },
    {
     "data": {
      "image/png": "[encoded data removed]",
      "text/plain": [
       "<Figure size 432x288 with 6 Axes>"
      ]
     },
     "metadata": {
      "needs_background": "light"
     },
     "output_type": "display_data"
    }
   ],
   "source": [
    "accuracy_scores, histories = run_test_harness_simplified_over_lr(eps=5, bs=32)"
   ]
  },
  {
   "cell_type": "markdown",
   "metadata": {},
   "source": [
    "#### Will save the final model with a lr=0.01 since that looks the best, fit on the training set only"
   ]
  },
  {
   "cell_type": "code",
   "execution_count": 14,
   "metadata": {},
   "outputs": [],
   "source": [
    "#will now save a final model with lr = 0.01\n",
    "\n",
    "#load dataset\n",
    "def load_dataset():\n",
    "    #load daaset\n",
    "    (trainX, trainY), (testX,testY)=mnist.load_data()\n",
    "    #reshape dataset to have single channel\n",
    "    trainX=trainX.reshape((trainX.shape[0],28,28,1))\n",
    "    testX=testX.reshape((testX.shape[0],28,28,1))\n",
    "    #one hot encode target values\n",
    "    trainY=to_categorical(trainY)\n",
    "    testY=to_categorical(testY)\n",
    "    return trainX, trainY, testX, testY\n",
    "\n",
    "#prepare pixels\n",
    "def prep_pixels(train, test):\n",
    "    #convert from int to floats\n",
    "    train_norm = train.astype('float32')\n",
    "    test_norm = test.astype('float32')\n",
    "    #normalize to range 0-1\n",
    "    train_norm=train_norm/255.0\n",
    "    test_norm=test_norm/255.0\n",
    "    #return nromalized images\n",
    "    return train_norm, test_norm\n",
    "\n",
    "#define final model wit lr = 0.01\n",
    "def define_model_final():\n",
    "    model=Sequential()\n",
    "    #add a single convolutional layer with a small filer size (3,3) and modest number of filters (32)\n",
    "    #NB: all layers will use ReLU activation function and He weight initialization scheme (best practices)\n",
    "    model.add(Conv2D(32, (3,3), activation='relu',kernel_initializer='he_uniform',input_shape=(28,28,1)))\n",
    "    #add Batch normalization after convolutional layer\n",
    "    model.add(BatchNormalization())\n",
    "    #add a max pooling layer\n",
    "    model.add(MaxPooling2D((2,2)))\n",
    "    #made model deeped than prior models by adding a double convolutional layer (64 filters each but same sized filters as above), followed by a max pooling layer\n",
    "    model.add(Conv2D(64, (3, 3), activation='relu', kernel_initializer='he_uniform'))\n",
    "    model.add(Conv2D(64, (3, 3), activation='relu', kernel_initializer='he_uniform'))\n",
    "    model.add(MaxPooling2D((2, 2)))\n",
    "    #Feature extractor: flatten filter maps to provide features to classifier\n",
    "    model.add(Flatten())\n",
    "    #dense layer to interpret features (will use 100 nodes here)\n",
    "    model.add(Dense(100, activation='relu',kernel_initializer='he_uniform'))\n",
    "    #add batch normalization after fully connected layer\n",
    "    model.add(BatchNormalization())\n",
    "    #output layer: task will be to classify each of the 10 digits, so output layer will need 10 nodes to predict prob distribution of the 10 classes\n",
    "    model.add(Dense(10, activation='softmax'))\n",
    "    #stochastic gradient descent optimizer: here, learning rate=0.01, and momentum=0.9\n",
    "    opt=SGD(lr=0.01, momentum=0.9)\n",
    "    #compile model: categorical x-entropy loss function will be optimized and will monitor classification accuracy metric\n",
    "    model.compile(optimizer=opt, loss='categorical_crossentropy', metrics=['accuracy'])\n",
    "    return model\n",
    "\n",
    "#run test harness for evaluating final model, save model to an H5 file\n",
    "def run_test_harness_final():\n",
    "    # load dataset\n",
    "    trainX, trainY, testX, testY = load_dataset()\n",
    "    # prepare pixel data\n",
    "    trainX, testX = prep_pixels(trainX, testX)\n",
    "    # define model\n",
    "    model = define_model_final()\n",
    "    # fit model on training dataset\n",
    "    model.fit(trainX, trainY, epochs=10, batch_size=32, verbose=0)\n",
    "    # save model\n",
    "    model.save('final_model.h5')\n",
    "\n",
    "#entry point, run the test harness. This will save the model with the name 'final_model.h5' in the working directory\n",
    "run_test_harness_final()"
   ]
  },
  {
   "cell_type": "markdown",
   "metadata": {},
   "source": [
    "#### Load the final model, and evaluate it on the hold out test dataset"
   ]
  },
  {
   "cell_type": "code",
   "execution_count": 6,
   "metadata": {},
   "outputs": [
    {
     "name": "stdout",
     "output_type": "stream",
     "text": [
      ">98.960\n"
     ]
    }
   ],
   "source": [
    "#load dataset\n",
    "def load_dataset():\n",
    "    #load daaset\n",
    "    (trainX, trainY), (testX,testY)=mnist.load_data()\n",
    "    #reshape dataset to have single channel\n",
    "    trainX=trainX.reshape((trainX.shape[0],28,28,1))\n",
    "    testX=testX.reshape((testX.shape[0],28,28,1))\n",
    "    #one hot encode target values\n",
    "    trainY=to_categorical(trainY)\n",
    "    testY=to_categorical(testY)\n",
    "    return trainX, trainY, testX, testY\n",
    "\n",
    "#prepare pixels\n",
    "def prep_pixels(train, test):\n",
    "    #convert from int to floats\n",
    "    train_norm = train.astype('float32')\n",
    "    test_norm = test.astype('float32')\n",
    "    #normalize to range 0-1\n",
    "    train_norm=train_norm/255.0\n",
    "    test_norm=test_norm/255.0\n",
    "    #return nromalized images\n",
    "    return train_norm, test_norm\n",
    "\n",
    "def run_test_harness_final():\n",
    "    # load dataset\n",
    "    trainX, trainY, testX, testY = load_dataset()\n",
    "    # prepare pixel data\n",
    "    trainX, testX = prep_pixels(trainX, testX)\n",
    "    # load model\n",
    "    model = load_model('final_model.h5')\n",
    "    #evaluate model on test dataset\n",
    "    _, acc = model.evaluate(testX, testY, verbose=0)\n",
    "    print('>%.3f' % (acc*100.0))\n",
    "\n",
    "#entry point, run the test harness. This will save the model with the name 'final_model.h5' in the working directory\n",
    "run_test_harness_final()"
   ]
  },
  {
   "cell_type": "markdown",
   "metadata": {},
   "source": [
    "#### Use the saved model to make a prediction"
   ]
  },
  {
   "cell_type": "code",
   "execution_count": 17,
   "metadata": {},
   "outputs": [
    {
     "name": "stderr",
     "output_type": "stream",
     "text": [
      "c:\\users\\dbitterman\\appdata\\local\\programs\\python\\python37\\lib\\site-packages\\keras_preprocessing\\image\\utils.py:104: UserWarning: grayscale is deprecated. Please use color_mode = \"grayscale\"\n",
      "  warnings.warn('grayscale is deprecated. Please use '\n"
     ]
    },
    {
     "name": "stdout",
     "output_type": "stream",
     "text": [
      "7\n"
     ]
    }
   ],
   "source": [
    "#load and prepare the image that the prediction will be made on\n",
    "def load_image(filename):\n",
    "    #load the image, force it ot be grayscale and force size to be 28x28\n",
    "    img=load_img(filename, grayscale=True, target_size=(28,28))\n",
    "    #convert to array\n",
    "    img=img_to_array(img)\n",
    "    #reshape into a single sample with 1 channel\n",
    "    img=img.reshape(1,28,28,1)\n",
    "    #prepare pixel data un the same way prepared for training dataset when fitting the final model (normalize here)\n",
    "    img=img.astype('float32')\n",
    "    img=img/255.0\n",
    "    return img\n",
    "\n",
    "#load an image and predict the class\n",
    "def run_example():\n",
    "    #load the image \n",
    "    img=load_image('sample_image.png')\n",
    "    #load model\n",
    "    model=load_model('final_model.h5')\n",
    "    #predict the class\n",
    "    digit=model.predict_classes(img)\n",
    "    print(digit[0])\n",
    "    \n",
    "#entry point, run the sample\n",
    "img=run_example()"
   ]
  }
 ],
 "metadata": {
  "kernelspec": {
   "display_name": "Python 3",
   "language": "python",
   "name": "python3"
  },
  "language_info": {
   "codemirror_mode": {
    "name": "ipython",
    "version": 3
   },
   "file_extension": ".py",
   "mimetype": "text/x-python",
   "name": "python",
   "nbconvert_exporter": "python",
   "pygments_lexer": "ipython3",
   "version": "3.7.3"
  }
 },
 "nbformat": 4,
 "nbformat_minor": 2
}
